{
 "cells": [
  {
   "cell_type": "code",
   "execution_count": 110,
   "metadata": {
    "scrolled": true
   },
   "outputs": [
    {
     "data": {
      "text/html": [
       "<div>\n",
       "<style scoped>\n",
       "    .dataframe tbody tr th:only-of-type {\n",
       "        vertical-align: middle;\n",
       "    }\n",
       "\n",
       "    .dataframe tbody tr th {\n",
       "        vertical-align: top;\n",
       "    }\n",
       "\n",
       "    .dataframe thead th {\n",
       "        text-align: right;\n",
       "    }\n",
       "</style>\n",
       "<table border=\"1\" class=\"dataframe\">\n",
       "  <thead>\n",
       "    <tr style=\"text-align: right;\">\n",
       "      <th></th>\n",
       "      <th>LABEL</th>\n",
       "      <th>COMMENT</th>\n",
       "    </tr>\n",
       "  </thead>\n",
       "  <tbody>\n",
       "    <tr>\n",
       "      <th>0</th>\n",
       "      <td>EP</td>\n",
       "      <td>You are very beautiful.</td>\n",
       "    </tr>\n",
       "    <tr>\n",
       "      <th>1</th>\n",
       "      <td>OT</td>\n",
       "      <td>ðŸ˜€ðŸ˜€ðŸ˜€ðŸ˜€</td>\n",
       "    </tr>\n",
       "    <tr>\n",
       "      <th>2</th>\n",
       "      <td>EP</td>\n",
       "      <td>Nice</td>\n",
       "    </tr>\n",
       "    <tr>\n",
       "      <th>3</th>\n",
       "      <td>GM</td>\n",
       "      <td>Atali Sundar mam as bakuda jode nathi sobhati .</td>\n",
       "    </tr>\n",
       "    <tr>\n",
       "      <th>4</th>\n",
       "      <td>EP</td>\n",
       "      <td>Nice video jitu bhai ðŸ˜ŠðŸ˜ŠðŸ¤£ðŸ‘‘ðŸ‘ˆ</td>\n",
       "    </tr>\n",
       "  </tbody>\n",
       "</table>\n",
       "</div>"
      ],
      "text/plain": [
       "  LABEL                                            COMMENT\n",
       "0    EP                            You are very beautiful.\n",
       "1    OT                                   ðŸ˜€ðŸ˜€ðŸ˜€ðŸ˜€\n",
       "2    EP                                               Nice\n",
       "3    GM  Atali Sundar mam as bakuda jode nathi sobhati .  \n",
       "4    EP          Nice video jitu bhai ðŸ˜ŠðŸ˜ŠðŸ¤£ðŸ‘‘ðŸ‘ˆ"
      ]
     },
     "execution_count": 110,
     "metadata": {},
     "output_type": "execute_result"
    }
   ],
   "source": [
    "import pandas as pd\n",
    "r = pd.read_excel('all6600.xlsx')\n",
    "r.head()"
   ]
  },
  {
   "cell_type": "code",
   "execution_count": 111,
   "metadata": {},
   "outputs": [],
   "source": [
    "#r = pd.read_excel['LABEL','cleaned']"
   ]
  },
  {
   "cell_type": "markdown",
   "metadata": {},
   "source": [
    "# Hindi Labels Only"
   ]
  },
  {
   "cell_type": "code",
   "execution_count": 112,
   "metadata": {
    "scrolled": false
   },
   "outputs": [
    {
     "data": {
      "text/html": [
       "<div>\n",
       "<style scoped>\n",
       "    .dataframe tbody tr th:only-of-type {\n",
       "        vertical-align: middle;\n",
       "    }\n",
       "\n",
       "    .dataframe tbody tr th {\n",
       "        vertical-align: top;\n",
       "    }\n",
       "\n",
       "    .dataframe thead th {\n",
       "        text-align: right;\n",
       "    }\n",
       "</style>\n",
       "<table border=\"1\" class=\"dataframe\">\n",
       "  <thead>\n",
       "    <tr style=\"text-align: right;\">\n",
       "      <th></th>\n",
       "      <th>LABEL</th>\n",
       "      <th>COMMENT</th>\n",
       "    </tr>\n",
       "  </thead>\n",
       "  <tbody>\n",
       "    <tr>\n",
       "      <th>697</th>\n",
       "      <td>GP</td>\n",
       "      <td>વિદ્યાર્થીઓ વચ્ચે બોલે છે એટલે ભણવામાં મજા નથી...</td>\n",
       "    </tr>\n",
       "    <tr>\n",
       "      <th>699</th>\n",
       "      <td>GP</td>\n",
       "      <td>ગુજરાતી ઇતિહાસ આવી રીતે તમે જ શીખવી શકો બીજું ...</td>\n",
       "    </tr>\n",
       "    <tr>\n",
       "      <th>721</th>\n",
       "      <td>GP</td>\n",
       "      <td>બહુ જ સરળ શબ્દો માં સચોટ શિક્ષણ  પદ્ધતિ.  અભિન...</td>\n",
       "    </tr>\n",
       "    <tr>\n",
       "      <th>740</th>\n",
       "      <td>GP</td>\n",
       "      <td>ખુબ જ સરસ ભણાવો છો......તમારા ભણાવેલા સબ્દો બધ...</td>\n",
       "    </tr>\n",
       "    <tr>\n",
       "      <th>779</th>\n",
       "      <td>GP</td>\n",
       "      <td>પ્લે સ્ટોર માં બતાવતા નથી</td>\n",
       "    </tr>\n",
       "  </tbody>\n",
       "</table>\n",
       "</div>"
      ],
      "text/plain": [
       "    LABEL                                            COMMENT\n",
       "697    GP  વિદ્યાર્થીઓ વચ્ચે બોલે છે એટલે ભણવામાં મજા નથી...\n",
       "699    GP  ગુજરાતી ઇતિહાસ આવી રીતે તમે જ શીખવી શકો બીજું ...\n",
       "721    GP  બહુ જ સરળ શબ્દો માં સચોટ શિક્ષણ  પદ્ધતિ.  અભિન...\n",
       "740    GP  ખુબ જ સરસ ભણાવો છો......તમારા ભણાવેલા સબ્દો બધ...\n",
       "779    GP                          પ્લે સ્ટોર માં બતાવતા નથી"
      ]
     },
     "execution_count": 112,
     "metadata": {},
     "output_type": "execute_result"
    }
   ],
   "source": [
    "r =dataset[dataset['LABEL'].isin(['GP'])]\n",
    "r.head()"
   ]
  },
  {
   "cell_type": "code",
   "execution_count": 113,
   "metadata": {},
   "outputs": [
    {
     "name": "stderr",
     "output_type": "stream",
     "text": [
      "C:\\ProgramData\\Anaconda3\\lib\\site-packages\\ipykernel_launcher.py:7: SettingWithCopyWarning: \n",
      "A value is trying to be set on a copy of a slice from a DataFrame.\n",
      "Try using .loc[row_indexer,col_indexer] = value instead\n",
      "\n",
      "See the caveats in the documentation: https://pandas.pydata.org/pandas-docs/stable/user_guide/indexing.html#returning-a-view-versus-a-copy\n",
      "  import sys\n"
     ]
    },
    {
     "data": {
      "text/html": [
       "<div>\n",
       "<style scoped>\n",
       "    .dataframe tbody tr th:only-of-type {\n",
       "        vertical-align: middle;\n",
       "    }\n",
       "\n",
       "    .dataframe tbody tr th {\n",
       "        vertical-align: top;\n",
       "    }\n",
       "\n",
       "    .dataframe thead th {\n",
       "        text-align: right;\n",
       "    }\n",
       "</style>\n",
       "<table border=\"1\" class=\"dataframe\">\n",
       "  <thead>\n",
       "    <tr style=\"text-align: right;\">\n",
       "      <th></th>\n",
       "      <th>LABEL</th>\n",
       "      <th>COMMENT</th>\n",
       "      <th>comclean</th>\n",
       "    </tr>\n",
       "  </thead>\n",
       "  <tbody>\n",
       "    <tr>\n",
       "      <th>697</th>\n",
       "      <td>GP</td>\n",
       "      <td>વિદ્યાર્થીઓ વચ્ચે બોલે છે એટલે ભણવામાં મજા નથી...</td>\n",
       "      <td>વિદ્યાર્થીઓ વચ્ચે બોલે છે એટલે ભણવામાં મજા નથી...</td>\n",
       "    </tr>\n",
       "    <tr>\n",
       "      <th>699</th>\n",
       "      <td>GP</td>\n",
       "      <td>ગુજરાતી ઇતિહાસ આવી રીતે તમે જ શીખવી શકો બીજું ...</td>\n",
       "      <td>ગુજરાતી ઇતિહાસ આવી રીતે તમે જ શીખવી શકો બીજું ...</td>\n",
       "    </tr>\n",
       "    <tr>\n",
       "      <th>721</th>\n",
       "      <td>GP</td>\n",
       "      <td>બહુ જ સરળ શબ્દો માં સચોટ શિક્ષણ  પદ્ધતિ.  અભિન...</td>\n",
       "      <td>બહુ જ સરળ શબ્દો માં સચોટ શિક્ષણ  પદ્ધતિ  અભિનંદન</td>\n",
       "    </tr>\n",
       "    <tr>\n",
       "      <th>740</th>\n",
       "      <td>GP</td>\n",
       "      <td>ખુબ જ સરસ ભણાવો છો......તમારા ભણાવેલા સબ્દો બધ...</td>\n",
       "      <td>ખુબ જ સરસ ભણાવો છોતમારા ભણાવેલા સબ્દો બધા યાદ ...</td>\n",
       "    </tr>\n",
       "    <tr>\n",
       "      <th>779</th>\n",
       "      <td>GP</td>\n",
       "      <td>પ્લે સ્ટોર માં બતાવતા નથી</td>\n",
       "      <td>પ્લે સ્ટોર માં બતાવતા નથી</td>\n",
       "    </tr>\n",
       "  </tbody>\n",
       "</table>\n",
       "</div>"
      ],
      "text/plain": [
       "    LABEL                                            COMMENT  \\\n",
       "697    GP  વિદ્યાર્થીઓ વચ્ચે બોલે છે એટલે ભણવામાં મજા નથી...   \n",
       "699    GP  ગુજરાતી ઇતિહાસ આવી રીતે તમે જ શીખવી શકો બીજું ...   \n",
       "721    GP  બહુ જ સરળ શબ્દો માં સચોટ શિક્ષણ  પદ્ધતિ.  અભિન...   \n",
       "740    GP  ખુબ જ સરસ ભણાવો છો......તમારા ભણાવેલા સબ્દો બધ...   \n",
       "779    GP                          પ્લે સ્ટોર માં બતાવતા નથી   \n",
       "\n",
       "                                              comclean  \n",
       "697  વિદ્યાર્થીઓ વચ્ચે બોલે છે એટલે ભણવામાં મજા નથી...  \n",
       "699  ગુજરાતી ઇતિહાસ આવી રીતે તમે જ શીખવી શકો બીજું ...  \n",
       "721  બહુ જ સરળ શબ્દો માં સચોટ શિક્ષણ  પદ્ધતિ  અભિનંદન   \n",
       "740  ખુબ જ સરસ ભણાવો છોતમારા ભણાવેલા સબ્દો બધા યાદ ...  \n",
       "779                          પ્લે સ્ટોર માં બતાવતા નથી  "
      ]
     },
     "execution_count": 113,
     "metadata": {},
     "output_type": "execute_result"
    }
   ],
   "source": [
    "import string\n",
    "def clean_text(text):\n",
    "       # text_nonpunct = [c for c in text if c not in string.punctuation]\n",
    "        text_nonpunct =\"\".join([c for c in text if c not in string.punctuation])\n",
    "        return text_nonpunct\n",
    "    \n",
    "r['comclean'] = r['COMMENT'].apply(lambda x: clean_text(x))\n",
    "r.head()"
   ]
  },
  {
   "cell_type": "code",
   "execution_count": 114,
   "metadata": {},
   "outputs": [
    {
     "name": "stdout",
     "output_type": "stream",
     "text": [
      "(674, 190)\n"
     ]
    }
   ],
   "source": [
    "from sklearn.feature_extraction.text import CountVectorizer\n",
    "cv1 = CountVectorizer(analyzer=clean_text)\n",
    "\n",
    "X = cv1.fit_transform(r['COMMENT'])\n",
    "print(X.shape)"
   ]
  },
  {
   "cell_type": "code",
   "execution_count": 115,
   "metadata": {
    "scrolled": true
   },
   "outputs": [
    {
     "name": "stdout",
     "output_type": "stream",
     "text": [
      "['\\n', ' ', '0', '1', '2', '3', '4', '5', '6', '7', '8', '9', 'A', 'B', 'C', 'E', 'G', 'H', 'I', 'J', 'K', 'L', 'M', 'N', 'O', 'P', 'R', 'S', 'T', 'U', 'V', 'W', 'a', 'b', 'c', 'd', 'e', 'f', 'g', 'h', 'i', 'j', 'k', 'l', 'm', 'n', 'o', 'p', 'q', 'r', 's', 't', 'u', 'v', 'w', 'x', 'y', 'z', 'ं', 'ज', 'द', 'य', 'ह', 'ि', 'ઁ', 'ં', 'ઃ', 'અ', 'આ', 'ઇ', 'ઈ', 'ઉ', 'ઊ', 'એ', 'ઐ', 'ઑ', 'ઓ', 'ક', 'ખ', 'ગ', 'ઘ', 'ઙ', 'ચ', 'છ', 'જ', 'ઝ', 'ઞ', 'ટ', 'ઠ', 'ડ', 'ઢ', 'ણ', 'ત', 'થ', 'દ', 'ધ', 'ન', 'પ', 'ફ', 'બ', 'ભ', 'મ', 'ય', 'ર', 'લ', 'ળ', 'વ', 'શ', 'ષ', 'સ', 'હ', '઼', 'ા', 'િ', 'ી', 'ુ', 'ૂ', 'ૃ', 'ૅ', 'ે', 'ૈ', 'ૉ', 'ો', 'ૌ', '્', 'ૐ', '૦', '૧', '૨', '૩', '૪', '૫', '૬', '૭', '૮', '૯', '\\u200c', '–', '’', '…', '₹', '♥', '❤', '️', '🌏', '🌸', '🌹', '🌺', '🌻', '🎤', '🎬', '🎼', '🏵', '🏻', '👈', '👉', '👌', '👍', '👏', '💐', '💔', '💗', '💛', '💥', '💪', '💯', '📚', '🔥', '🖤', '😁', '😂', '😃', '😉', '😊', '😍', '😎', '😘', '😜', '😞', '😠', '😢', '😥', '😳', '🙏', '🚩', '🤐', '🤗', '🤘', '🤞', '🤣']\n"
     ]
    }
   ],
   "source": [
    "print(cv1.get_feature_names())"
   ]
  },
  {
   "cell_type": "code",
   "execution_count": 116,
   "metadata": {},
   "outputs": [
    {
     "name": "stderr",
     "output_type": "stream",
     "text": [
      "C:\\ProgramData\\Anaconda3\\lib\\site-packages\\ipykernel_launcher.py:22: SettingWithCopyWarning: \n",
      "A value is trying to be set on a copy of a slice from a DataFrame.\n",
      "Try using .loc[row_indexer,col_indexer] = value instead\n",
      "\n",
      "See the caveats in the documentation: https://pandas.pydata.org/pandas-docs/stable/user_guide/indexing.html#returning-a-view-versus-a-copy\n"
     ]
    },
    {
     "data": {
      "text/html": [
       "<div>\n",
       "<style scoped>\n",
       "    .dataframe tbody tr th:only-of-type {\n",
       "        vertical-align: middle;\n",
       "    }\n",
       "\n",
       "    .dataframe tbody tr th {\n",
       "        vertical-align: top;\n",
       "    }\n",
       "\n",
       "    .dataframe thead th {\n",
       "        text-align: right;\n",
       "    }\n",
       "</style>\n",
       "<table border=\"1\" class=\"dataframe\">\n",
       "  <thead>\n",
       "    <tr style=\"text-align: right;\">\n",
       "      <th></th>\n",
       "      <th>LABEL</th>\n",
       "      <th>COMMENT</th>\n",
       "      <th>comclean</th>\n",
       "      <th>cleaned</th>\n",
       "    </tr>\n",
       "  </thead>\n",
       "  <tbody>\n",
       "    <tr>\n",
       "      <th>697</th>\n",
       "      <td>GP</td>\n",
       "      <td>વિદ્યાર્થીઓ વચ્ચે બોલે છે એટલે ભણવામાં મજા નથી...</td>\n",
       "      <td>વિદ્યાર્થીઓ વચ્ચે બોલે છે એટલે ભણવામાં મજા નથી...</td>\n",
       "      <td>વિદ્યાર્થીઓ વચ્ચે બોલે છે એટલે ભણવામાં મજા નથી...</td>\n",
       "    </tr>\n",
       "    <tr>\n",
       "      <th>699</th>\n",
       "      <td>GP</td>\n",
       "      <td>ગુજરાતી ઇતિહાસ આવી રીતે તમે જ શીખવી શકો બીજું ...</td>\n",
       "      <td>ગુજરાતી ઇતિહાસ આવી રીતે તમે જ શીખવી શકો બીજું ...</td>\n",
       "      <td>ગુજરાતી ઇતિહાસ આવી રીતે તમે જ શીખવી શકો બીજું ...</td>\n",
       "    </tr>\n",
       "    <tr>\n",
       "      <th>721</th>\n",
       "      <td>GP</td>\n",
       "      <td>બહુ જ સરળ શબ્દો માં સચોટ શિક્ષણ  પદ્ધતિ.  અભિન...</td>\n",
       "      <td>બહુ જ સરળ શબ્દો માં સચોટ શિક્ષણ  પદ્ધતિ  અભિનંદન</td>\n",
       "      <td>બહુ જ સરળ શબ્દો માં સચોટ શિક્ષણ  પદ્ધતિ  અભિનંદન</td>\n",
       "    </tr>\n",
       "    <tr>\n",
       "      <th>740</th>\n",
       "      <td>GP</td>\n",
       "      <td>ખુબ જ સરસ ભણાવો છો......તમારા ભણાવેલા સબ્દો બધ...</td>\n",
       "      <td>ખુબ જ સરસ ભણાવો છોતમારા ભણાવેલા સબ્દો બધા યાદ ...</td>\n",
       "      <td>ખુબ જ સરસ ભણાવો છોતમારા ભણાવેલા સબ્દો બધા યાદ ...</td>\n",
       "    </tr>\n",
       "    <tr>\n",
       "      <th>779</th>\n",
       "      <td>GP</td>\n",
       "      <td>પ્લે સ્ટોર માં બતાવતા નથી</td>\n",
       "      <td>પ્લે સ્ટોર માં બતાવતા નથી</td>\n",
       "      <td>પ્લે સ્ટોર માં બતાવતા નથી</td>\n",
       "    </tr>\n",
       "  </tbody>\n",
       "</table>\n",
       "</div>"
      ],
      "text/plain": [
       "    LABEL                                            COMMENT  \\\n",
       "697    GP  વિદ્યાર્થીઓ વચ્ચે બોલે છે એટલે ભણવામાં મજા નથી...   \n",
       "699    GP  ગુજરાતી ઇતિહાસ આવી રીતે તમે જ શીખવી શકો બીજું ...   \n",
       "721    GP  બહુ જ સરળ શબ્દો માં સચોટ શિક્ષણ  પદ્ધતિ.  અભિન...   \n",
       "740    GP  ખુબ જ સરસ ભણાવો છો......તમારા ભણાવેલા સબ્દો બધ...   \n",
       "779    GP                          પ્લે સ્ટોર માં બતાવતા નથી   \n",
       "\n",
       "                                              comclean  \\\n",
       "697  વિદ્યાર્થીઓ વચ્ચે બોલે છે એટલે ભણવામાં મજા નથી...   \n",
       "699  ગુજરાતી ઇતિહાસ આવી રીતે તમે જ શીખવી શકો બીજું ...   \n",
       "721  બહુ જ સરળ શબ્દો માં સચોટ શિક્ષણ  પદ્ધતિ  અભિનંદન    \n",
       "740  ખુબ જ સરસ ભણાવો છોતમારા ભણાવેલા સબ્દો બધા યાદ ...   \n",
       "779                          પ્લે સ્ટોર માં બતાવતા નથી   \n",
       "\n",
       "                                               cleaned  \n",
       "697  વિદ્યાર્થીઓ વચ્ચે બોલે છે એટલે ભણવામાં મજા નથી...  \n",
       "699  ગુજરાતી ઇતિહાસ આવી રીતે તમે જ શીખવી શકો બીજું ...  \n",
       "721  બહુ જ સરળ શબ્દો માં સચોટ શિક્ષણ  પદ્ધતિ  અભિનંદન   \n",
       "740  ખુબ જ સરસ ભણાવો છોતમારા ભણાવેલા સબ્દો બધા યાદ ...  \n",
       "779                          પ્લે સ્ટોર માં બતાવતા નથી  "
      ]
     },
     "execution_count": 116,
     "metadata": {},
     "output_type": "execute_result"
    }
   ],
   "source": [
    "import string\n",
    "def clean_text(text):\n",
    "        msg =[  '0', '1', '2', '3', '4', '5', '6', '7', '8', '9', 'A', 'B', 'C', 'E', 'G', 'H', \n",
    "              'I', 'J', 'K', 'L', 'M', 'N', 'O', 'P', 'R', 'S', 'T', 'U', 'V', 'W', 'a', 'b', 'c', \n",
    "              'd', 'e', 'f', 'g', 'h', 'i', 'j', 'k', 'l', 'm', 'n', 'o', 'p', 'q', 'r', 's', 't', 'u',\n",
    "              'v', 'w', 'x', 'y', 'z', 'ं', 'ज', 'द', 'य', 'ह', 'ि', 'ઁ','\\u200d', '–', '—', '‘', '’', '‚', \n",
    "              '”', '„', '†', '‡', '•', '…', '‰', '‹', '›', '€',              '”', '„', '†', '‡', '•', '…', '‰', '‹', '›', '€',\n",
    "              '₹', '™', '√', '☑', '☹', '☺', '♂', '♥', '✌', '❌', '❣', '❤', '️', '🇮', \n",
    "              '🇳', '🌷', '🌹', '🌺', '🎥', '🏻', '🏼', '👆', '👇', '👌', '👍', '👏', '👩', \n",
    "              '💃', '💋', '💌', '💐', '💓', '💔', '💕', '💖', '💘', '💜', '💝', '💞', '💢', \n",
    "              '💥', '🔥', '🔫', '🖤', '😀', '😁', '😂', '😃', '😄', '😅', '😆', '😇', '😉', \n",
    "              '😊', '😋', '😍', '😎', '😑', '😓', '😔', '😗', '😘', '😚', '😛', '😜', '😝', \n",
    "              '😞', '😡', '😢', '😥', '😩', '😫', '😭', '😮', '😱', '😲', '🙂', '🙃', '🙄', '🙌',\n",
    "              '🙏', '🚒', '🚶', '🛐', '🤓', '🤔', '🤗', '🤘', '🤡', '🤣', '🤦', '🤩', '🤯', '🥀', '🦁', '🧡',\n",
    "             '\\x81', '\\x8d', '\\x8f', '\\x9d', '\\xa0', '¡', '£', '¤', '¦', '§', '¨', 'ª', '«', '¬', '®', '¯', '°',\n",
    "              '²', 'µ', '¸', '¹', 'º', '»', '¾', '¿', '×', 'à', 'á', 'â', 'ð', 'đ', 'ĺ', 'Œ', 'œ', 'Š', \n",
    "              'š', 'Ÿ', 'Ž', 'ˆ', '˜',]\n",
    "       # text_nonpunct = [c for c in text if c not in string.punctuation]\n",
    "        text_nonpunct =\"\".join([c for c in text if c not in msg])\n",
    "        return text_nonpunct\n",
    "    \n",
    "r['cleaned'] = r['comclean'].apply(lambda x: clean_text(x))\n",
    "r.head()\n"
   ]
  },
  {
   "cell_type": "code",
   "execution_count": 117,
   "metadata": {},
   "outputs": [
    {
     "data": {
      "text/plain": [
       "'\\nimport string\\ndef clean_text(text):\\n        msg =[\\'0\\', \\'1\\', \\'2\\', \\'3\\', \\'4\\', \\'5\\', \\'6\\', \\'7\\', \\'8\\', \\'9\\', \\'૦\\', \\'૧\\', \\'૨\\', \\'૩\\', \\'૪\\', \\'૫\\', \\'૬\\', \\'૭\\', \\'૮\\', \\'૯\\',\\n              \\'અ\\', \\'આ\\', \\'ઇ\\', \\'ઈ\\', \\'ઉ\\', \\'ઊ\\', \\'એ\\', \\'ઐ\\', \\'ઑ\\', \\'ઓ\\',\\'ક\\', \\'ખ\\', \\'ગ\\', \\'ઘ\\', \\'ઙ\\', \\'ચ\\', \\'છ\\', \\'જ\\',\\n              \\'ઝ\\', \\'ઞ\\', \\'ટ\\', \\'ઠ\\', \\'ડ\\', \\'ઢ\\', \\'ણ\\', \\'ત\\', \\'થ\\', \\'દ\\', \\'ધ\\', \\'ન\\', \\'પ\\', \\'ફ\\', \\'બ\\', \\'ભ\\', \\'મ\\', \\'ય\\', \\'ર\\',\\n              \\'લ\\', \\'ળ\\', \\'વ\\', \\'શ\\', \\'ષ\\', \\'સ\\', \\'હ\\',\\'઼\\', \\'ા\\', \\'િ\\', \\'ી\\', \\'ુ\\', \\'ૂ\\', \\'ૃ\\', \\'ૅ\\', \\'ે\\', \\'ૈ\\', \\'ૉ\\', \\'ો\\', \\'ૌ\\', \\'્\\',\\n                \\'a\\', \\'b\\', \\'c\\', \\'d\\', \\'e\\', \\'f\\', \\'g\\', \\'h\\', \\'i\\', \\'j\\', \\'k\\', \\'l\\', \\'m\\', \\'n\\', \\'o\\', \\'p\\', \\'q\\', \\'r\\', \\'s\\', \\'t\\', \\n              \\'u\\', \\'v\\', \\'w\\', \\'x\\', \\'y\\', \\'z\\', \\'A\\', \\'B\\', \\'C\\', \\'D\\', \\'E\\', \\'F\\', \\'G\\', \\'H\\', \\'I\\', \\'J\\', \\'K\\', \\'L\\', \\'M\\', \\n              \\'N\\', \\'O\\', \\'P\\', \\'Q\\', \\'R\\', \\'S\\', \\'T\\', \\'U\\', \\'V\\', \\'W\\', \\'X\\', \\'Y\\', \\'Z\\', \\'क\\', \\'ख\\', \\'ग\\', \\'घ\\', \\'च\\', \\'छ\\',\\n              \\'ज\\', \\'झ\\', \\'ट\\', \\'ठ\\', \\'ड\\', \\'ढ\\', \\'ण\\', \\'त\\', \\'थ\\', \\'द\\', \\'ध\\', \\'न\\', \\'प\\', \\'फ\\', \\'ब\\', \\'भ\\', \\'म\\', \\'य\\', \\'र\\', \\n              \\'ल\\', \\'व\\', \\'श\\', \\'ष\\', \\'स\\', \\'ह\\',]\\n       # text_nonpunct = [c for c in text if c not in string.punctuation]\\n        text_nonpunct =\"\".join([c for c in text if c not in msg])\\n        return text_nonpunct\\n    \\nr[\\'cleaned\\'] = r[\\'comclean\\'].apply(lambda x: clean_text(x))\\nr.head()\\n\\n'"
      ]
     },
     "execution_count": 117,
     "metadata": {},
     "output_type": "execute_result"
    }
   ],
   "source": [
    "'''\n",
    "import string\n",
    "def clean_text(text):\n",
    "        msg =['0', '1', '2', '3', '4', '5', '6', '7', '8', '9', '૦', '૧', '૨', '૩', '૪', '૫', '૬', '૭', '૮', '૯',\n",
    "              'અ', 'આ', 'ઇ', 'ઈ', 'ઉ', 'ઊ', 'એ', 'ઐ', 'ઑ', 'ઓ','ક', 'ખ', 'ગ', 'ઘ', 'ઙ', 'ચ', 'છ', 'જ',\n",
    "              'ઝ', 'ઞ', 'ટ', 'ઠ', 'ડ', 'ઢ', 'ણ', 'ત', 'થ', 'દ', 'ધ', 'ન', 'પ', 'ફ', 'બ', 'ભ', 'મ', 'ય', 'ર',\n",
    "              'લ', 'ળ', 'વ', 'શ', 'ષ', 'સ', 'હ','઼', 'ા', 'િ', 'ી', 'ુ', 'ૂ', 'ૃ', 'ૅ', 'ે', 'ૈ', 'ૉ', 'ો', 'ૌ', '્',\n",
    "                'a', 'b', 'c', 'd', 'e', 'f', 'g', 'h', 'i', 'j', 'k', 'l', 'm', 'n', 'o', 'p', 'q', 'r', 's', 't', \n",
    "              'u', 'v', 'w', 'x', 'y', 'z', 'A', 'B', 'C', 'D', 'E', 'F', 'G', 'H', 'I', 'J', 'K', 'L', 'M', \n",
    "              'N', 'O', 'P', 'Q', 'R', 'S', 'T', 'U', 'V', 'W', 'X', 'Y', 'Z', 'क', 'ख', 'ग', 'घ', 'च', 'छ',\n",
    "              'ज', 'झ', 'ट', 'ठ', 'ड', 'ढ', 'ण', 'त', 'थ', 'द', 'ध', 'न', 'प', 'फ', 'ब', 'भ', 'म', 'य', 'र', \n",
    "              'ल', 'व', 'श', 'ष', 'स', 'ह',]\n",
    "       # text_nonpunct = [c for c in text if c not in string.punctuation]\n",
    "        text_nonpunct =\"\".join([c for c in text if c not in msg])\n",
    "        return text_nonpunct\n",
    "    \n",
    "r['cleaned'] = r['comclean'].apply(lambda x: clean_text(x))\n",
    "r.head()\n",
    "\n",
    "'''"
   ]
  },
  {
   "cell_type": "code",
   "execution_count": 118,
   "metadata": {},
   "outputs": [
    {
     "name": "stderr",
     "output_type": "stream",
     "text": [
      "C:\\ProgramData\\Anaconda3\\lib\\site-packages\\ipykernel_launcher.py:2: SettingWithCopyWarning: \n",
      "A value is trying to be set on a copy of a slice from a DataFrame.\n",
      "Try using .loc[row_indexer,col_indexer] = value instead\n",
      "\n",
      "See the caveats in the documentation: https://pandas.pydata.org/pandas-docs/stable/user_guide/indexing.html#returning-a-view-versus-a-copy\n",
      "  \n"
     ]
    },
    {
     "data": {
      "text/html": [
       "<div>\n",
       "<style scoped>\n",
       "    .dataframe tbody tr th:only-of-type {\n",
       "        vertical-align: middle;\n",
       "    }\n",
       "\n",
       "    .dataframe tbody tr th {\n",
       "        vertical-align: top;\n",
       "    }\n",
       "\n",
       "    .dataframe thead th {\n",
       "        text-align: right;\n",
       "    }\n",
       "</style>\n",
       "<table border=\"1\" class=\"dataframe\">\n",
       "  <thead>\n",
       "    <tr style=\"text-align: right;\">\n",
       "      <th></th>\n",
       "      <th>LABEL</th>\n",
       "      <th>COMMENT</th>\n",
       "      <th>comclean</th>\n",
       "      <th>cleaned</th>\n",
       "      <th>sen_len1</th>\n",
       "    </tr>\n",
       "  </thead>\n",
       "  <tbody>\n",
       "    <tr>\n",
       "      <th>697</th>\n",
       "      <td>GP</td>\n",
       "      <td>વિદ્યાર્થીઓ વચ્ચે બોલે છે એટલે ભણવામાં મજા નથી...</td>\n",
       "      <td>વિદ્યાર્થીઓ વચ્ચે બોલે છે એટલે ભણવામાં મજા નથી...</td>\n",
       "      <td>વિદ્યાર્થીઓ વચ્ચે બોલે છે એટલે ભણવામાં મજા નથી...</td>\n",
       "      <td>69</td>\n",
       "    </tr>\n",
       "    <tr>\n",
       "      <th>699</th>\n",
       "      <td>GP</td>\n",
       "      <td>ગુજરાતી ઇતિહાસ આવી રીતે તમે જ શીખવી શકો બીજું ...</td>\n",
       "      <td>ગુજરાતી ઇતિહાસ આવી રીતે તમે જ શીખવી શકો બીજું ...</td>\n",
       "      <td>ગુજરાતી ઇતિહાસ આવી રીતે તમે જ શીખવી શકો બીજું ...</td>\n",
       "      <td>60</td>\n",
       "    </tr>\n",
       "    <tr>\n",
       "      <th>721</th>\n",
       "      <td>GP</td>\n",
       "      <td>બહુ જ સરળ શબ્દો માં સચોટ શિક્ષણ  પદ્ધતિ.  અભિન...</td>\n",
       "      <td>બહુ જ સરળ શબ્દો માં સચોટ શિક્ષણ  પદ્ધતિ  અભિનંદન</td>\n",
       "      <td>બહુ જ સરળ શબ્દો માં સચોટ શિક્ષણ  પદ્ધતિ  અભિનંદન</td>\n",
       "      <td>51</td>\n",
       "    </tr>\n",
       "    <tr>\n",
       "      <th>740</th>\n",
       "      <td>GP</td>\n",
       "      <td>ખુબ જ સરસ ભણાવો છો......તમારા ભણાવેલા સબ્દો બધ...</td>\n",
       "      <td>ખુબ જ સરસ ભણાવો છોતમારા ભણાવેલા સબ્દો બધા યાદ ...</td>\n",
       "      <td>ખુબ જ સરસ ભણાવો છોતમારા ભણાવેલા સબ્દો બધા યાદ ...</td>\n",
       "      <td>62</td>\n",
       "    </tr>\n",
       "    <tr>\n",
       "      <th>779</th>\n",
       "      <td>GP</td>\n",
       "      <td>પ્લે સ્ટોર માં બતાવતા નથી</td>\n",
       "      <td>પ્લે સ્ટોર માં બતાવતા નથી</td>\n",
       "      <td>પ્લે સ્ટોર માં બતાવતા નથી</td>\n",
       "      <td>25</td>\n",
       "    </tr>\n",
       "  </tbody>\n",
       "</table>\n",
       "</div>"
      ],
      "text/plain": [
       "    LABEL                                            COMMENT  \\\n",
       "697    GP  વિદ્યાર્થીઓ વચ્ચે બોલે છે એટલે ભણવામાં મજા નથી...   \n",
       "699    GP  ગુજરાતી ઇતિહાસ આવી રીતે તમે જ શીખવી શકો બીજું ...   \n",
       "721    GP  બહુ જ સરળ શબ્દો માં સચોટ શિક્ષણ  પદ્ધતિ.  અભિન...   \n",
       "740    GP  ખુબ જ સરસ ભણાવો છો......તમારા ભણાવેલા સબ્દો બધ...   \n",
       "779    GP                          પ્લે સ્ટોર માં બતાવતા નથી   \n",
       "\n",
       "                                              comclean  \\\n",
       "697  વિદ્યાર્થીઓ વચ્ચે બોલે છે એટલે ભણવામાં મજા નથી...   \n",
       "699  ગુજરાતી ઇતિહાસ આવી રીતે તમે જ શીખવી શકો બીજું ...   \n",
       "721  બહુ જ સરળ શબ્દો માં સચોટ શિક્ષણ  પદ્ધતિ  અભિનંદન    \n",
       "740  ખુબ જ સરસ ભણાવો છોતમારા ભણાવેલા સબ્દો બધા યાદ ...   \n",
       "779                          પ્લે સ્ટોર માં બતાવતા નથી   \n",
       "\n",
       "                                               cleaned  sen_len1  \n",
       "697  વિદ્યાર્થીઓ વચ્ચે બોલે છે એટલે ભણવામાં મજા નથી...        69  \n",
       "699  ગુજરાતી ઇતિહાસ આવી રીતે તમે જ શીખવી શકો બીજું ...        60  \n",
       "721  બહુ જ સરળ શબ્દો માં સચોટ શિક્ષણ  પદ્ધતિ  અભિનંદન         51  \n",
       "740  ખુબ જ સરસ ભણાવો છોતમારા ભણાવેલા સબ્દો બધા યાદ ...        62  \n",
       "779                          પ્લે સ્ટોર માં બતાવતા નથી        25  "
      ]
     },
     "execution_count": 118,
     "metadata": {},
     "output_type": "execute_result"
    }
   ],
   "source": [
    "#create feture: message length\n",
    "r['sen_len1'] = r['COMMENT'].apply(lambda x: len(x))\n",
    "r.head()"
   ]
  },
  {
   "cell_type": "code",
   "execution_count": 119,
   "metadata": {},
   "outputs": [
    {
     "name": "stderr",
     "output_type": "stream",
     "text": [
      "C:\\ProgramData\\Anaconda3\\lib\\site-packages\\ipykernel_launcher.py:2: SettingWithCopyWarning: \n",
      "A value is trying to be set on a copy of a slice from a DataFrame.\n",
      "Try using .loc[row_indexer,col_indexer] = value instead\n",
      "\n",
      "See the caveats in the documentation: https://pandas.pydata.org/pandas-docs/stable/user_guide/indexing.html#returning-a-view-versus-a-copy\n",
      "  \n"
     ]
    },
    {
     "data": {
      "text/html": [
       "<div>\n",
       "<style scoped>\n",
       "    .dataframe tbody tr th:only-of-type {\n",
       "        vertical-align: middle;\n",
       "    }\n",
       "\n",
       "    .dataframe tbody tr th {\n",
       "        vertical-align: top;\n",
       "    }\n",
       "\n",
       "    .dataframe thead th {\n",
       "        text-align: right;\n",
       "    }\n",
       "</style>\n",
       "<table border=\"1\" class=\"dataframe\">\n",
       "  <thead>\n",
       "    <tr style=\"text-align: right;\">\n",
       "      <th></th>\n",
       "      <th>LABEL</th>\n",
       "      <th>COMMENT</th>\n",
       "      <th>comclean</th>\n",
       "      <th>cleaned</th>\n",
       "      <th>sen_len1</th>\n",
       "      <th>sen_len2</th>\n",
       "    </tr>\n",
       "  </thead>\n",
       "  <tbody>\n",
       "    <tr>\n",
       "      <th>697</th>\n",
       "      <td>GP</td>\n",
       "      <td>વિદ્યાર્થીઓ વચ્ચે બોલે છે એટલે ભણવામાં મજા નથી...</td>\n",
       "      <td>વિદ્યાર્થીઓ વચ્ચે બોલે છે એટલે ભણવામાં મજા નથી...</td>\n",
       "      <td>વિદ્યાર્થીઓ વચ્ચે બોલે છે એટલે ભણવામાં મજા નથી...</td>\n",
       "      <td>69</td>\n",
       "      <td>68</td>\n",
       "    </tr>\n",
       "    <tr>\n",
       "      <th>699</th>\n",
       "      <td>GP</td>\n",
       "      <td>ગુજરાતી ઇતિહાસ આવી રીતે તમે જ શીખવી શકો બીજું ...</td>\n",
       "      <td>ગુજરાતી ઇતિહાસ આવી રીતે તમે જ શીખવી શકો બીજું ...</td>\n",
       "      <td>ગુજરાતી ઇતિહાસ આવી રીતે તમે જ શીખવી શકો બીજું ...</td>\n",
       "      <td>60</td>\n",
       "      <td>59</td>\n",
       "    </tr>\n",
       "    <tr>\n",
       "      <th>721</th>\n",
       "      <td>GP</td>\n",
       "      <td>બહુ જ સરળ શબ્દો માં સચોટ શિક્ષણ  પદ્ધતિ.  અભિન...</td>\n",
       "      <td>બહુ જ સરળ શબ્દો માં સચોટ શિક્ષણ  પદ્ધતિ  અભિનંદન</td>\n",
       "      <td>બહુ જ સરળ શબ્દો માં સચોટ શિક્ષણ  પદ્ધતિ  અભિનંદન</td>\n",
       "      <td>51</td>\n",
       "      <td>49</td>\n",
       "    </tr>\n",
       "    <tr>\n",
       "      <th>740</th>\n",
       "      <td>GP</td>\n",
       "      <td>ખુબ જ સરસ ભણાવો છો......તમારા ભણાવેલા સબ્દો બધ...</td>\n",
       "      <td>ખુબ જ સરસ ભણાવો છોતમારા ભણાવેલા સબ્દો બધા યાદ ...</td>\n",
       "      <td>ખુબ જ સરસ ભણાવો છોતમારા ભણાવેલા સબ્દો બધા યાદ ...</td>\n",
       "      <td>62</td>\n",
       "      <td>56</td>\n",
       "    </tr>\n",
       "    <tr>\n",
       "      <th>779</th>\n",
       "      <td>GP</td>\n",
       "      <td>પ્લે સ્ટોર માં બતાવતા નથી</td>\n",
       "      <td>પ્લે સ્ટોર માં બતાવતા નથી</td>\n",
       "      <td>પ્લે સ્ટોર માં બતાવતા નથી</td>\n",
       "      <td>25</td>\n",
       "      <td>25</td>\n",
       "    </tr>\n",
       "  </tbody>\n",
       "</table>\n",
       "</div>"
      ],
      "text/plain": [
       "    LABEL                                            COMMENT  \\\n",
       "697    GP  વિદ્યાર્થીઓ વચ્ચે બોલે છે એટલે ભણવામાં મજા નથી...   \n",
       "699    GP  ગુજરાતી ઇતિહાસ આવી રીતે તમે જ શીખવી શકો બીજું ...   \n",
       "721    GP  બહુ જ સરળ શબ્દો માં સચોટ શિક્ષણ  પદ્ધતિ.  અભિન...   \n",
       "740    GP  ખુબ જ સરસ ભણાવો છો......તમારા ભણાવેલા સબ્દો બધ...   \n",
       "779    GP                          પ્લે સ્ટોર માં બતાવતા નથી   \n",
       "\n",
       "                                              comclean  \\\n",
       "697  વિદ્યાર્થીઓ વચ્ચે બોલે છે એટલે ભણવામાં મજા નથી...   \n",
       "699  ગુજરાતી ઇતિહાસ આવી રીતે તમે જ શીખવી શકો બીજું ...   \n",
       "721  બહુ જ સરળ શબ્દો માં સચોટ શિક્ષણ  પદ્ધતિ  અભિનંદન    \n",
       "740  ખુબ જ સરસ ભણાવો છોતમારા ભણાવેલા સબ્દો બધા યાદ ...   \n",
       "779                          પ્લે સ્ટોર માં બતાવતા નથી   \n",
       "\n",
       "                                               cleaned  sen_len1  sen_len2  \n",
       "697  વિદ્યાર્થીઓ વચ્ચે બોલે છે એટલે ભણવામાં મજા નથી...        69        68  \n",
       "699  ગુજરાતી ઇતિહાસ આવી રીતે તમે જ શીખવી શકો બીજું ...        60        59  \n",
       "721  બહુ જ સરળ શબ્દો માં સચોટ શિક્ષણ  પદ્ધતિ  અભિનંદન         51        49  \n",
       "740  ખુબ જ સરસ ભણાવો છોતમારા ભણાવેલા સબ્દો બધા યાદ ...        62        56  \n",
       "779                          પ્લે સ્ટોર માં બતાવતા નથી        25        25  "
      ]
     },
     "execution_count": 119,
     "metadata": {},
     "output_type": "execute_result"
    }
   ],
   "source": [
    "#create feture: message length\n",
    "r['sen_len2'] = r['comclean'].apply(lambda x: len(x))\n",
    "r.head()"
   ]
  },
  {
   "cell_type": "code",
   "execution_count": 120,
   "metadata": {
    "scrolled": true
   },
   "outputs": [
    {
     "name": "stderr",
     "output_type": "stream",
     "text": [
      "C:\\ProgramData\\Anaconda3\\lib\\site-packages\\ipykernel_launcher.py:2: SettingWithCopyWarning: \n",
      "A value is trying to be set on a copy of a slice from a DataFrame.\n",
      "Try using .loc[row_indexer,col_indexer] = value instead\n",
      "\n",
      "See the caveats in the documentation: https://pandas.pydata.org/pandas-docs/stable/user_guide/indexing.html#returning-a-view-versus-a-copy\n",
      "  \n"
     ]
    },
    {
     "data": {
      "text/html": [
       "<div>\n",
       "<style scoped>\n",
       "    .dataframe tbody tr th:only-of-type {\n",
       "        vertical-align: middle;\n",
       "    }\n",
       "\n",
       "    .dataframe tbody tr th {\n",
       "        vertical-align: top;\n",
       "    }\n",
       "\n",
       "    .dataframe thead th {\n",
       "        text-align: right;\n",
       "    }\n",
       "</style>\n",
       "<table border=\"1\" class=\"dataframe\">\n",
       "  <thead>\n",
       "    <tr style=\"text-align: right;\">\n",
       "      <th></th>\n",
       "      <th>LABEL</th>\n",
       "      <th>COMMENT</th>\n",
       "      <th>comclean</th>\n",
       "      <th>cleaned</th>\n",
       "      <th>sen_len1</th>\n",
       "      <th>sen_len2</th>\n",
       "      <th>sen_len3</th>\n",
       "    </tr>\n",
       "  </thead>\n",
       "  <tbody>\n",
       "    <tr>\n",
       "      <th>697</th>\n",
       "      <td>GP</td>\n",
       "      <td>વિદ્યાર્થીઓ વચ્ચે બોલે છે એટલે ભણવામાં મજા નથી...</td>\n",
       "      <td>વિદ્યાર્થીઓ વચ્ચે બોલે છે એટલે ભણવામાં મજા નથી...</td>\n",
       "      <td>વિદ્યાર્થીઓ વચ્ચે બોલે છે એટલે ભણવામાં મજા નથી...</td>\n",
       "      <td>69</td>\n",
       "      <td>68</td>\n",
       "      <td>68</td>\n",
       "    </tr>\n",
       "    <tr>\n",
       "      <th>699</th>\n",
       "      <td>GP</td>\n",
       "      <td>ગુજરાતી ઇતિહાસ આવી રીતે તમે જ શીખવી શકો બીજું ...</td>\n",
       "      <td>ગુજરાતી ઇતિહાસ આવી રીતે તમે જ શીખવી શકો બીજું ...</td>\n",
       "      <td>ગુજરાતી ઇતિહાસ આવી રીતે તમે જ શીખવી શકો બીજું ...</td>\n",
       "      <td>60</td>\n",
       "      <td>59</td>\n",
       "      <td>53</td>\n",
       "    </tr>\n",
       "    <tr>\n",
       "      <th>721</th>\n",
       "      <td>GP</td>\n",
       "      <td>બહુ જ સરળ શબ્દો માં સચોટ શિક્ષણ  પદ્ધતિ.  અભિન...</td>\n",
       "      <td>બહુ જ સરળ શબ્દો માં સચોટ શિક્ષણ  પદ્ધતિ  અભિનંદન</td>\n",
       "      <td>બહુ જ સરળ શબ્દો માં સચોટ શિક્ષણ  પદ્ધતિ  અભિનંદન</td>\n",
       "      <td>51</td>\n",
       "      <td>49</td>\n",
       "      <td>49</td>\n",
       "    </tr>\n",
       "    <tr>\n",
       "      <th>740</th>\n",
       "      <td>GP</td>\n",
       "      <td>ખુબ જ સરસ ભણાવો છો......તમારા ભણાવેલા સબ્દો બધ...</td>\n",
       "      <td>ખુબ જ સરસ ભણાવો છોતમારા ભણાવેલા સબ્દો બધા યાદ ...</td>\n",
       "      <td>ખુબ જ સરસ ભણાવો છોતમારા ભણાવેલા સબ્દો બધા યાદ ...</td>\n",
       "      <td>62</td>\n",
       "      <td>56</td>\n",
       "      <td>56</td>\n",
       "    </tr>\n",
       "    <tr>\n",
       "      <th>779</th>\n",
       "      <td>GP</td>\n",
       "      <td>પ્લે સ્ટોર માં બતાવતા નથી</td>\n",
       "      <td>પ્લે સ્ટોર માં બતાવતા નથી</td>\n",
       "      <td>પ્લે સ્ટોર માં બતાવતા નથી</td>\n",
       "      <td>25</td>\n",
       "      <td>25</td>\n",
       "      <td>25</td>\n",
       "    </tr>\n",
       "  </tbody>\n",
       "</table>\n",
       "</div>"
      ],
      "text/plain": [
       "    LABEL                                            COMMENT  \\\n",
       "697    GP  વિદ્યાર્થીઓ વચ્ચે બોલે છે એટલે ભણવામાં મજા નથી...   \n",
       "699    GP  ગુજરાતી ઇતિહાસ આવી રીતે તમે જ શીખવી શકો બીજું ...   \n",
       "721    GP  બહુ જ સરળ શબ્દો માં સચોટ શિક્ષણ  પદ્ધતિ.  અભિન...   \n",
       "740    GP  ખુબ જ સરસ ભણાવો છો......તમારા ભણાવેલા સબ્દો બધ...   \n",
       "779    GP                          પ્લે સ્ટોર માં બતાવતા નથી   \n",
       "\n",
       "                                              comclean  \\\n",
       "697  વિદ્યાર્થીઓ વચ્ચે બોલે છે એટલે ભણવામાં મજા નથી...   \n",
       "699  ગુજરાતી ઇતિહાસ આવી રીતે તમે જ શીખવી શકો બીજું ...   \n",
       "721  બહુ જ સરળ શબ્દો માં સચોટ શિક્ષણ  પદ્ધતિ  અભિનંદન    \n",
       "740  ખુબ જ સરસ ભણાવો છોતમારા ભણાવેલા સબ્દો બધા યાદ ...   \n",
       "779                          પ્લે સ્ટોર માં બતાવતા નથી   \n",
       "\n",
       "                                               cleaned  sen_len1  sen_len2  \\\n",
       "697  વિદ્યાર્થીઓ વચ્ચે બોલે છે એટલે ભણવામાં મજા નથી...        69        68   \n",
       "699  ગુજરાતી ઇતિહાસ આવી રીતે તમે જ શીખવી શકો બીજું ...        60        59   \n",
       "721  બહુ જ સરળ શબ્દો માં સચોટ શિક્ષણ  પદ્ધતિ  અભિનંદન         51        49   \n",
       "740  ખુબ જ સરસ ભણાવો છોતમારા ભણાવેલા સબ્દો બધા યાદ ...        62        56   \n",
       "779                          પ્લે સ્ટોર માં બતાવતા નથી        25        25   \n",
       "\n",
       "     sen_len3  \n",
       "697        68  \n",
       "699        53  \n",
       "721        49  \n",
       "740        56  \n",
       "779        25  "
      ]
     },
     "execution_count": 120,
     "metadata": {},
     "output_type": "execute_result"
    }
   ],
   "source": [
    "#create feture: message length\n",
    "r['sen_len3'] = r['comclean'].apply(lambda x: len(x))\n",
    "r.head()"
   ]
  },
  {
   "cell_type": "code",
   "execution_count": 121,
   "metadata": {},
   "outputs": [
    {
     "name": "stderr",
     "output_type": "stream",
     "text": [
      "C:\\ProgramData\\Anaconda3\\lib\\site-packages\\ipykernel_launcher.py:6: SettingWithCopyWarning: \n",
      "A value is trying to be set on a copy of a slice from a DataFrame.\n",
      "Try using .loc[row_indexer,col_indexer] = value instead\n",
      "\n",
      "See the caveats in the documentation: https://pandas.pydata.org/pandas-docs/stable/user_guide/indexing.html#returning-a-view-versus-a-copy\n",
      "  \n"
     ]
    },
    {
     "data": {
      "text/html": [
       "<div>\n",
       "<style scoped>\n",
       "    .dataframe tbody tr th:only-of-type {\n",
       "        vertical-align: middle;\n",
       "    }\n",
       "\n",
       "    .dataframe tbody tr th {\n",
       "        vertical-align: top;\n",
       "    }\n",
       "\n",
       "    .dataframe thead th {\n",
       "        text-align: right;\n",
       "    }\n",
       "</style>\n",
       "<table border=\"1\" class=\"dataframe\">\n",
       "  <thead>\n",
       "    <tr style=\"text-align: right;\">\n",
       "      <th></th>\n",
       "      <th>LABEL</th>\n",
       "      <th>COMMENT</th>\n",
       "      <th>comclean</th>\n",
       "      <th>cleaned</th>\n",
       "      <th>sen_len1</th>\n",
       "      <th>sen_len2</th>\n",
       "      <th>sen_len3</th>\n",
       "      <th>tokens</th>\n",
       "    </tr>\n",
       "  </thead>\n",
       "  <tbody>\n",
       "    <tr>\n",
       "      <th>697</th>\n",
       "      <td>GP</td>\n",
       "      <td>વિદ્યાર્થીઓ વચ્ચે બોલે છે એટલે ભણવામાં મજા નથી...</td>\n",
       "      <td>વિદ્યાર્થીઓ વચ્ચે બોલે છે એટલે ભણવામાં મજા નથી...</td>\n",
       "      <td>વિદ્યાર્થીઓ વચ્ચે બોલે છે એટલે ભણવામાં મજા નથી...</td>\n",
       "      <td>69</td>\n",
       "      <td>68</td>\n",
       "      <td>68</td>\n",
       "      <td>[વિદ્યાર્થીઓ, વચ્ચે, બોલે, છે, એટલે, ભણવામાં, ...</td>\n",
       "    </tr>\n",
       "    <tr>\n",
       "      <th>699</th>\n",
       "      <td>GP</td>\n",
       "      <td>ગુજરાતી ઇતિહાસ આવી રીતે તમે જ શીખવી શકો બીજું ...</td>\n",
       "      <td>ગુજરાતી ઇતિહાસ આવી રીતે તમે જ શીખવી શકો બીજું ...</td>\n",
       "      <td>ગુજરાતી ઇતિહાસ આવી રીતે તમે જ શીખવી શકો બીજું ...</td>\n",
       "      <td>60</td>\n",
       "      <td>59</td>\n",
       "      <td>53</td>\n",
       "      <td>[ગુજરાતી, ઇતિહાસ, આવી, રીતે, તમે, જ, શીખવી, શક...</td>\n",
       "    </tr>\n",
       "    <tr>\n",
       "      <th>721</th>\n",
       "      <td>GP</td>\n",
       "      <td>બહુ જ સરળ શબ્દો માં સચોટ શિક્ષણ  પદ્ધતિ.  અભિન...</td>\n",
       "      <td>બહુ જ સરળ શબ્દો માં સચોટ શિક્ષણ  પદ્ધતિ  અભિનંદન</td>\n",
       "      <td>બહુ જ સરળ શબ્દો માં સચોટ શિક્ષણ  પદ્ધતિ  અભિનંદન</td>\n",
       "      <td>51</td>\n",
       "      <td>49</td>\n",
       "      <td>49</td>\n",
       "      <td>[બહુ, જ, સરળ, શબ્દો, માં, સચોટ, શિક્ષણ, પદ્ધતિ...</td>\n",
       "    </tr>\n",
       "    <tr>\n",
       "      <th>740</th>\n",
       "      <td>GP</td>\n",
       "      <td>ખુબ જ સરસ ભણાવો છો......તમારા ભણાવેલા સબ્દો બધ...</td>\n",
       "      <td>ખુબ જ સરસ ભણાવો છોતમારા ભણાવેલા સબ્દો બધા યાદ ...</td>\n",
       "      <td>ખુબ જ સરસ ભણાવો છોતમારા ભણાવેલા સબ્દો બધા યાદ ...</td>\n",
       "      <td>62</td>\n",
       "      <td>56</td>\n",
       "      <td>56</td>\n",
       "      <td>[ખુબ, જ, સરસ, ભણાવો, છોતમારા, ભણાવેલા, સબ્દો, ...</td>\n",
       "    </tr>\n",
       "    <tr>\n",
       "      <th>779</th>\n",
       "      <td>GP</td>\n",
       "      <td>પ્લે સ્ટોર માં બતાવતા નથી</td>\n",
       "      <td>પ્લે સ્ટોર માં બતાવતા નથી</td>\n",
       "      <td>પ્લે સ્ટોર માં બતાવતા નથી</td>\n",
       "      <td>25</td>\n",
       "      <td>25</td>\n",
       "      <td>25</td>\n",
       "      <td>[પ્લે, સ્ટોર, માં, બતાવતા, નથી]</td>\n",
       "    </tr>\n",
       "  </tbody>\n",
       "</table>\n",
       "</div>"
      ],
      "text/plain": [
       "    LABEL                                            COMMENT  \\\n",
       "697    GP  વિદ્યાર્થીઓ વચ્ચે બોલે છે એટલે ભણવામાં મજા નથી...   \n",
       "699    GP  ગુજરાતી ઇતિહાસ આવી રીતે તમે જ શીખવી શકો બીજું ...   \n",
       "721    GP  બહુ જ સરળ શબ્દો માં સચોટ શિક્ષણ  પદ્ધતિ.  અભિન...   \n",
       "740    GP  ખુબ જ સરસ ભણાવો છો......તમારા ભણાવેલા સબ્દો બધ...   \n",
       "779    GP                          પ્લે સ્ટોર માં બતાવતા નથી   \n",
       "\n",
       "                                              comclean  \\\n",
       "697  વિદ્યાર્થીઓ વચ્ચે બોલે છે એટલે ભણવામાં મજા નથી...   \n",
       "699  ગુજરાતી ઇતિહાસ આવી રીતે તમે જ શીખવી શકો બીજું ...   \n",
       "721  બહુ જ સરળ શબ્દો માં સચોટ શિક્ષણ  પદ્ધતિ  અભિનંદન    \n",
       "740  ખુબ જ સરસ ભણાવો છોતમારા ભણાવેલા સબ્દો બધા યાદ ...   \n",
       "779                          પ્લે સ્ટોર માં બતાવતા નથી   \n",
       "\n",
       "                                               cleaned  sen_len1  sen_len2  \\\n",
       "697  વિદ્યાર્થીઓ વચ્ચે બોલે છે એટલે ભણવામાં મજા નથી...        69        68   \n",
       "699  ગુજરાતી ઇતિહાસ આવી રીતે તમે જ શીખવી શકો બીજું ...        60        59   \n",
       "721  બહુ જ સરળ શબ્દો માં સચોટ શિક્ષણ  પદ્ધતિ  અભિનંદન         51        49   \n",
       "740  ખુબ જ સરસ ભણાવો છોતમારા ભણાવેલા સબ્દો બધા યાદ ...        62        56   \n",
       "779                          પ્લે સ્ટોર માં બતાવતા નથી        25        25   \n",
       "\n",
       "     sen_len3                                             tokens  \n",
       "697        68  [વિદ્યાર્થીઓ, વચ્ચે, બોલે, છે, એટલે, ભણવામાં, ...  \n",
       "699        53  [ગુજરાતી, ઇતિહાસ, આવી, રીતે, તમે, જ, શીખવી, શક...  \n",
       "721        49  [બહુ, જ, સરળ, શબ્દો, માં, સચોટ, શિક્ષણ, પદ્ધતિ...  \n",
       "740        56  [ખુબ, જ, સરસ, ભણાવો, છોતમારા, ભણાવેલા, સબ્દો, ...  \n",
       "779        25                    [પ્લે, સ્ટોર, માં, બતાવતા, નથી]  "
      ]
     },
     "execution_count": 121,
     "metadata": {},
     "output_type": "execute_result"
    }
   ],
   "source": [
    "import re\n",
    "def tokenize(txt):\n",
    "    token = re.split('\\s+',txt)\n",
    "    return token\n",
    "\n",
    "r['tokens'] = r['cleaned'].apply(lambda x: tokenize(x.lower()))\n",
    "r.head()"
   ]
  },
  {
   "cell_type": "code",
   "execution_count": 122,
   "metadata": {},
   "outputs": [
    {
     "data": {
      "text/plain": [
       "6538"
      ]
     },
     "execution_count": 122,
     "metadata": {},
     "output_type": "execute_result"
    }
   ],
   "source": [
    "len(r['tokens'].sum())"
   ]
  },
  {
   "cell_type": "code",
   "execution_count": 108,
   "metadata": {
    "scrolled": true
   },
   "outputs": [
    {
     "data": {
      "text/plain": [
       "(674, 8)"
      ]
     },
     "execution_count": 108,
     "metadata": {},
     "output_type": "execute_result"
    }
   ],
   "source": [
    "r.shape"
   ]
  },
  {
   "cell_type": "code",
   "execution_count": 123,
   "metadata": {},
   "outputs": [],
   "source": [
    "r.to_excel(\"GP674.xlsx\")"
   ]
  },
  {
   "cell_type": "code",
   "execution_count": null,
   "metadata": {},
   "outputs": [],
   "source": []
  }
 ],
 "metadata": {
  "kernelspec": {
   "display_name": "Python 3",
   "language": "python",
   "name": "python3"
  },
  "language_info": {
   "codemirror_mode": {
    "name": "ipython",
    "version": 3
   },
   "file_extension": ".py",
   "mimetype": "text/x-python",
   "name": "python",
   "nbconvert_exporter": "python",
   "pygments_lexer": "ipython3",
   "version": "3.7.6"
  }
 },
 "nbformat": 4,
 "nbformat_minor": 4
}
